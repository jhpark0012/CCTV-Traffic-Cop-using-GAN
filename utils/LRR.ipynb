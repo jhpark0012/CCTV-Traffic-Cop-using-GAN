{
 "cells": [
  {
   "cell_type": "code",
   "execution_count": null,
   "id": "19c3ae25",
   "metadata": {},
   "outputs": [],
   "source": [
    "import cv2\n",
    "import numpy as np\n",
    "from scipy.spatial.distance import hamming\n",
    "\n",
    "\n",
    "def convert_char_to_image(char, font=cv2.FONT_HERSHEY_SIMPLEX, font_scale=2, thickness=7):\n",
    "    \"\"\"Converts a character to an image.\"\"\"\n",
    "    # Create a blank image\n",
    "    i = 80\n",
    "    img = np.zeros((i, i), np.uint8)\n",
    "    # Put the character on the image\n",
    "    textsize = cv2.getTextSize(char, font, font_scale, thickness)[0]\n",
    "    textX = (img.shape[1] - textsize[0]) // 2\n",
    "    textY = (img.shape[0] + textsize[1]) // 2\n",
    "    cv2.putText(img, char, (textX, textY ), font, font_scale, 255, thickness)\n",
    "    return img\n",
    "\n",
    "def convert_string_to_image(string):\n",
    "    \"\"\"Converts a string to a concatenated image of its characters.\"\"\"\n",
    "    images = [convert_char_to_image(char) for char in string]\n",
    "    concatenated_image = np.hstack(images)\n",
    "    return concatenated_image"
   ]
  }
 ],
 "metadata": {
  "kernelspec": {
   "display_name": "Python 3 (ipykernel)",
   "language": "python",
   "name": "python3"
  },
  "language_info": {
   "codemirror_mode": {
    "name": "ipython",
    "version": 3
   },
   "file_extension": ".py",
   "mimetype": "text/x-python",
   "name": "python",
   "nbconvert_exporter": "python",
   "pygments_lexer": "ipython3",
   "version": "3.9.12"
  },
  "toc": {
   "base_numbering": 1,
   "nav_menu": {},
   "number_sections": true,
   "sideBar": true,
   "skip_h1_title": false,
   "title_cell": "Table of Contents",
   "title_sidebar": "Contents",
   "toc_cell": false,
   "toc_position": {},
   "toc_section_display": true,
   "toc_window_display": false
  },
  "varInspector": {
   "cols": {
    "lenName": 16,
    "lenType": 16,
    "lenVar": 40
   },
   "kernels_config": {
    "python": {
     "delete_cmd_postfix": "",
     "delete_cmd_prefix": "del ",
     "library": "var_list.py",
     "varRefreshCmd": "print(var_dic_list())"
    },
    "r": {
     "delete_cmd_postfix": ") ",
     "delete_cmd_prefix": "rm(",
     "library": "var_list.r",
     "varRefreshCmd": "cat(var_dic_list()) "
    }
   },
   "types_to_exclude": [
    "module",
    "function",
    "builtin_function_or_method",
    "instance",
    "_Feature"
   ],
   "window_display": false
  }
 },
 "nbformat": 4,
 "nbformat_minor": 5
}
