{
 "cells": [
  {
   "cell_type": "code",
   "execution_count": null,
   "id": "cdaecb68",
   "metadata": {},
   "outputs": [],
   "source": [
    "import cv2\n",
    "\n",
    "# Adjust brightness\n",
    "def adjust_brightness(image, factor):\n",
    "    adjusted_image = cv2.convertScaleAbs(image, alpha=factor, beta=0)\n",
    "    return adjusted_image\n",
    "\n",
    "# Express Rain\n",
    "def salt_and_pepper(image, p):\n",
    "    output = np.zeros(image.shape,np.uint8)\n",
    "    thres = 1 - p\n",
    "    for i in range(image.shape[0]):\n",
    "        for j in range(image.shape[1]):\n",
    "            rdn = random.random()\n",
    "            if rdn < p:\n",
    "                output[i][j] = 0\n",
    "            elif rdn > thres:\n",
    "                output[i][j] = 255\n",
    "            else:\n",
    "                output[i][j] = image[i][j]\n",
    "    return output\n",
    "\n",
    "# Express Snow\n",
    "def add_uniform_snow_noise(image, snow_intensity, direction=60):\n",
    "    noisy_image = np.copy(image)\n",
    "\n",
    "    for _ in range(snow_intensity):\n",
    "        x = np.random.randint(0, image.shape[1])\n",
    "        y = np.random.randint(0, image.shape[0])\n",
    "        length = np.random.randint(1, 4)\n",
    "        thickness = np.random.randint(1, 3)\n",
    "\n",
    "        end_x = int(x + length * np.cos(direction))\n",
    "        end_y = int(y + length * np.sin(direction))\n",
    "\n",
    "        # 흰색으로 설정\n",
    "        color = (255, 255, 255)\n",
    "\n",
    "        cv2.line(noisy_image, (x, y), (end_x, end_y), color, thickness)\n",
    "\n",
    "    return noisy_image"
   ]
  }
 ],
 "metadata": {
  "kernelspec": {
   "display_name": "Python 3 (ipykernel)",
   "language": "python",
   "name": "python3"
  },
  "language_info": {
   "codemirror_mode": {
    "name": "ipython",
    "version": 3
   },
   "file_extension": ".py",
   "mimetype": "text/x-python",
   "name": "python",
   "nbconvert_exporter": "python",
   "pygments_lexer": "ipython3",
   "version": "3.9.12"
  },
  "toc": {
   "base_numbering": 1,
   "nav_menu": {},
   "number_sections": true,
   "sideBar": true,
   "skip_h1_title": false,
   "title_cell": "Table of Contents",
   "title_sidebar": "Contents",
   "toc_cell": false,
   "toc_position": {},
   "toc_section_display": true,
   "toc_window_display": false
  },
  "varInspector": {
   "cols": {
    "lenName": 16,
    "lenType": 16,
    "lenVar": 40
   },
   "kernels_config": {
    "python": {
     "delete_cmd_postfix": "",
     "delete_cmd_prefix": "del ",
     "library": "var_list.py",
     "varRefreshCmd": "print(var_dic_list())"
    },
    "r": {
     "delete_cmd_postfix": ") ",
     "delete_cmd_prefix": "rm(",
     "library": "var_list.r",
     "varRefreshCmd": "cat(var_dic_list()) "
    }
   },
   "types_to_exclude": [
    "module",
    "function",
    "builtin_function_or_method",
    "instance",
    "_Feature"
   ],
   "window_display": false
  }
 },
 "nbformat": 4,
 "nbformat_minor": 5
}
